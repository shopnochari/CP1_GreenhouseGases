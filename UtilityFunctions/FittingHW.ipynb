{
 "cells": [
  {
   "cell_type": "markdown",
   "id": "1671bf48-dd00-4ac0-8130-097a1bd5dc3b",
   "metadata": {},
   "source": [
    "# Homwork 6 Problem 1\n",
    "\n",
    "## Luke Meiler\n",
    "\n",
    "### Exponential Fit\n",
    "\n",
    "We start by making some import statements to help with the math and plotting for out fit function."
   ]
  },
  {
   "cell_type": "code",
   "execution_count": 2,
   "id": "6a67cbf9-8723-4e40-81d6-7e306ee93312",
   "metadata": {},
   "outputs": [],
   "source": [
    "import math\n",
    "import numpy as np\n",
    "import matplotlib.pyplot as plt"
   ]
  },
  {
   "cell_type": "markdown",
   "id": "8a777f75-7942-465e-9bd1-86f039e4f0db",
   "metadata": {},
   "source": [
    "Next, the automatic linting is turned on. This is throwing an actual error for some reason with the chi_square_fit_exp function for some reason, so I cannot actually lint that code, but the rest should be fine."
   ]
  },
  {
   "cell_type": "code",
   "execution_count": 3,
   "id": "36ea4c83-834b-4f89-93b3-e5d6a655700e",
   "metadata": {},
   "outputs": [
    {
     "name": "stdout",
     "output_type": "stream",
     "text": [
      "The pycodestyle_magic extension is already loaded. To reload it, use:\n",
      "  %reload_ext pycodestyle_magic\n"
     ]
    }
   ],
   "source": [
    "%load_ext pycodestyle_magic\n",
    "%pycodestyle_off"
   ]
  },
  {
   "cell_type": "markdown",
   "id": "961c35ca-6120-4327-97ba-be1dce6afb77",
   "metadata": {},
   "source": [
    "Next, the methane data is parsed from the txt file downloaded off of the desired website. This is done using numpy's genfromtxt function. We only care about the time, methane level, and uncertainty from this data, so only these columns are pulled."
   ]
  },
  {
   "cell_type": "code",
   "execution_count": 4,
   "id": "a3e3ffe7-224e-40a9-a948-6f8156dc569d",
   "metadata": {},
   "outputs": [],
   "source": [
    "data = np.genfromtxt(fname='ch4_crv_tower-insitu_1_ccgg_HourlyData.txt', usecols=(7,8,9),delimiter=' ')"
   ]
  },
  {
   "cell_type": "markdown",
   "id": "d75540a2-fbd6-4d8e-ad2d-05bcb18033b9",
   "metadata": {},
   "source": [
    "Even though we now have this data, it is in an inconvienient form. This get_vals function is defined so that we take the format of the pulled data and rearrange it into a list of three lists: the time values, CH4 levels, and uncertainties."
   ]
  },
  {
   "cell_type": "code",
   "execution_count": 5,
   "id": "cb200194-4c81-4687-8d0c-1eed93c97f9a",
   "metadata": {},
   "outputs": [],
   "source": [
    "def get_vals(data):\n",
    "    \"\"\"This function takes the data set generated from the\n",
    "    numpy genfromtxt function of the three desired columns\n",
    "    and returns a list of three lists: the times, CH4 levels,\n",
    "    and uncertainties.\"\"\"\n",
    "    x_list = []\n",
    "    y_list = []\n",
    "    err_list = []\n",
    "    master_list = []\n",
    "    for i in data:\n",
    "        x_list.append(i[0])\n",
    "        y_list.append(i[1])\n",
    "        err_list.append(i[2])\n",
    "    master_list.append(x_list)\n",
    "    master_list.append(y_list)\n",
    "    master_list.append(err_list)\n",
    "    return master_list\n",
    "\n",
    "\n",
    "data_list = get_vals(data)\n",
    "x_data = data_list[0]\n",
    "y_data = data_list[1]\n",
    "err_data = data_list[2]\n",
    "\n",
    "length = len(x_data)"
   ]
  },
  {
   "cell_type": "markdown",
   "id": "40530e20-e614-4fd9-9d18-d8e9b15907be",
   "metadata": {},
   "source": [
    "### The Function\n",
    "\n",
    "Now that we have the data, we make an adjustment to the linear fit function given in class. We want to plot the log of the exponential increase, so we take the log of both sides of the equation to give $y' = ln(y) = ln(a) + bx$. We then can plot this linearly. This function iterates several times through the data set to calculate the necessary sums and return the trendline parameters. \n",
    "\n",
    "I was having difficulty with the numpy sum functions as they were adding an integer to a list, so I instead just used for loops. This is far from efficient, but it at least seems to work. A possible future improvement to this notebook would be to reduce the computation time of this following function by reducing the number of for loops that it contains."
   ]
  },
  {
   "cell_type": "code",
   "execution_count": 25,
   "id": "8ae1655f-deca-4219-9aa0-1053d6af73c8",
   "metadata": {},
   "outputs": [],
   "source": [
    "def chi_square_fit_exp(x, y, err):\n",
    "    \"\"\"This function takes a list of x, y, and error values that\n",
    "    it assumes behaves exponentially. It takes the natural log of\n",
    "    the y values and returns the parameters for a linear trendline\n",
    "    to fit the given data, as well as the associated uncertainties.\"\"\"\n",
    "    n = len(x)\n",
    "    lny = []\n",
    "    err_corr = []\n",
    "    for i in y:\n",
    "        lny_i = np.log(i)\n",
    "        lny.append(lny_i)\n",
    "    for i in err:\n",
    "        index = err.index(i)\n",
    "        err_i = i / (abs(y[index]))\n",
    "        err_corr.append(err_i)\n",
    "    if n < 2 :\n",
    "        print ('Error! Need at least 2 data points!')\n",
    "        exit()\n",
    "    S = 0\n",
    "    S_x = 0\n",
    "    S_y = 0\n",
    "    t = []\n",
    "    S_tt = 0\n",
    "    for i in err_corr:\n",
    "        index = err_corr.index(i)\n",
    "        S += 1/(i**2)\n",
    "        S_x += x[index] / (i**2)\n",
    "        S_y += lny[index] / (i**2)\n",
    "    for i in err_corr:\n",
    "        index = err_corr.index(i)\n",
    "        t.append((x[index] - S_x/S) / i)\n",
    "    for i in t:\n",
    "        S_tt += i**2\n",
    "#    S = np.sum(1/err_corr**2)\n",
    "    if abs(S) < 0.00001 :\n",
    "        print ('Error! Denominator S is too small!')\n",
    "        exit()\n",
    "#    S_x = np.sum(x/err_corr**2)\n",
    "#    S_y = np.sum(lny/err_corr**2)\n",
    "#    t = (x - S_x/S) / err_corr\n",
    "#    S_tt = np.sum(t**2)\n",
    "    if abs(S_tt) < 0.00001 :\n",
    "        print ('Error! Denominator S is too small!')\n",
    "        exit()\n",
    "    b = 0\n",
    "    a = 0\n",
    "    for i in err_corr:\n",
    "        index = err_corr.index(i)\n",
    "        b += (t[index]*lny[index] / i)\n",
    "    b = b / S_tt\n",
    "#    b = np.sum(t*lny/err_corr) / S_tt\n",
    "    a = (S_y - (S_x * b)) / S\n",
    "    sigma_a2 = (1 + S_x**2/S/S_tt) / S\n",
    "    sigma_b2 = 1/S_tt\n",
    "    if sigma_a2 < 0.0 or sigma_b2 < 0.0 :\n",
    "        print ('Error! About to pass a negative to sqrt')\n",
    "        exit()\n",
    "    sigma_a = np.sqrt(sigma_a2)\n",
    "    sigma_b = np.sqrt(sigma_b2)\n",
    "    chi_square = 0\n",
    "    for i in err_corr:\n",
    "        index = err_corr.index(i)\n",
    "        chi_square += ((lny[index] - a - b*x[index]) / i**2)\n",
    "#    chi_square = np.sum(((lny - a - b*x) / err_corr)**2)\n",
    "    return(a, b, sigma_a, sigma_b, chi_square)"
   ]
  },
  {
   "cell_type": "markdown",
   "id": "812b2e35-0927-441f-8697-e66fde709417",
   "metadata": {},
   "source": [
    "Now that the function has been defined, we call it using the data that we organized before. We then print the pertinent values from the fit that we made."
   ]
  },
  {
   "cell_type": "code",
   "execution_count": 7,
   "id": "16bcf1b6-04d8-4b52-a0d3-a3c7d2a79809",
   "metadata": {},
   "outputs": [],
   "source": [
    "fit = chi_square_fit_exp(x_data, y_data, err_data)"
   ]
  },
  {
   "cell_type": "code",
   "execution_count": 8,
   "id": "4b86f15f-0af5-4f3d-935f-a6463326ce7c",
   "metadata": {},
   "outputs": [
    {
     "name": "stdout",
     "output_type": "stream",
     "text": [
      "2.980429189242186 0.002270913221736406 79.67369912831782\n",
      "122100\n"
     ]
    }
   ],
   "source": [
    "print(fit[0], fit[1], fit[4])\n",
    "print(len(x_data))"
   ]
  },
  {
   "cell_type": "markdown",
   "id": "655f29ae-43eb-4e75-9a4c-23fe4cd4744a",
   "metadata": {},
   "source": [
    "### The Plot\n",
    "\n",
    "Finally, we can now plot our data and trendline. We use the tool that were imported at the beginning of the notebook, matplotlib, to accomplish this. The data is located from about 2015 to 2020, so the plot is centered on this time period."
   ]
  },
  {
   "cell_type": "code",
   "execution_count": 9,
   "id": "65e9fca5-71ec-4ba8-847d-12b4937fcada",
   "metadata": {},
   "outputs": [
    {
     "name": "stdout",
     "output_type": "stream",
     "text": [
      " slope = 0.002270913221736406  +-  1.6383757328805412e-07\n",
      " intercept = 2.980429189242186 +- 0.0003301560158090941\n",
      " chi-square/d.o.f. =  0.0006525389369876478\n"
     ]
    },
    {
     "data": {
      "image/png": "[encoded data removed]",
      "text/plain": [
       "<Figure size 432x288 with 1 Axes>"
      ]
     },
     "metadata": {
      "needs_background": "light"
     },
     "output_type": "display_data"
    }
   ],
   "source": [
    "plt.scatter(x_data, np.log(y_data))\n",
    "\n",
    "print(' slope =', fit[1], ' +- ', fit[3])\n",
    "print(' intercept =', fit[0], '+-', fit[2])\n",
    "if len(data) - 2 > 0 :\n",
    "    print(' chi-square/d.o.f. = ', fit[4]/(len(data)-2))\n",
    "else:\n",
    "    print(' chi-square/d.o.f. undefined')\n",
    "\n",
    "x_vals = np.linspace(2014, 2021)\n",
    "fitline = fit[0] + fit[1] * x_vals\n",
    "plt.plot(x_vals,fitline, '-r')\n",
    "plt.xlabel(\"Time\")\n",
    "plt.ylabel(\"CH4 Level\")\n",
    "plt.show()"
   ]
  },
  {
   "cell_type": "markdown",
   "id": "81627952-9e83-4a98-a2a8-2a62579d2589",
   "metadata": {},
   "source": [
    "We can see that overall the trendline is not bad. If the data is much more dense near the bottom of the plot than in the peaks at the top, we can say that this trendline fits the function well. However, the line looks to be a little low for the plot.\n",
    "\n",
    "We can also see how the fit works for smaller ranges of the data. For instace, let's see how it looks for half of the data on either side."
   ]
  },
  {
   "cell_type": "code",
   "execution_count": 10,
   "id": "624a7cb1-712e-45b3-8a05-00afe1bbda71",
   "metadata": {},
   "outputs": [],
   "source": [
    "half_length = int(length / 2)\n",
    "\n",
    "x_data2 = x_data[:half_length]\n",
    "y_data2 = y_data[:half_length]\n",
    "err_data2 = err_data[:half_length]"
   ]
  },
  {
   "cell_type": "code",
   "execution_count": 11,
   "id": "822e7c35-a9b7-4a02-a5bd-adc84de38aac",
   "metadata": {},
   "outputs": [],
   "source": [
    "fit_first_half = chi_square_fit_exp(x_data2, y_data2, err_data2)"
   ]
  },
  {
   "cell_type": "code",
   "execution_count": 18,
   "id": "7b4f09d8-1cfb-4f13-9f06-61c3011bdbbb",
   "metadata": {},
   "outputs": [
    {
     "name": "stdout",
     "output_type": "stream",
     "text": [
      " slope = 0.002440305656323746  +-  4.4465028632021274e-07\n",
      " intercept = 2.638995001661068 +- 0.0008960086495397505\n",
      " chi-square/d.o.f. =  -0.0002889621664718969\n"
     ]
    },
    {
     "data": {
      "image/png": "[encoded data removed]",
      "text/plain": [
       "<Figure size 432x288 with 1 Axes>"
      ]
     },
     "metadata": {
      "needs_background": "light"
     },
     "output_type": "display_data"
    }
   ],
   "source": [
    "plt.scatter(x_data2, np.log(y_data2))\n",
    "\n",
    "print(' slope =', fit_first_half[1], ' +- ', fit_first_half[3])\n",
    "print(' intercept =', fit_first_half[0], '+-', fit_first_half[2])\n",
    "if len(x_data2) - 2 > 0 :\n",
    "    print(' chi-square/d.o.f. = ', fit_first_half[4]/(len(x_data2)-2))\n",
    "else:\n",
    "    print(' chi-square/d.o.f. undefined')\n",
    "\n",
    "x_vals2 = np.linspace(2014, 2018)\n",
    "fitline2 = fit_first_half[0] + fit_first_half[1] * x_vals2\n",
    "plt.plot(x_vals2,fitline2, '-r')\n",
    "plt.xlabel(\"Time\")\n",
    "plt.ylabel(\"CH4 Level\")\n",
    "plt.show()"
   ]
  },
  {
   "cell_type": "markdown",
   "id": "229cbb52-2708-4d76-aee1-94c2bd869310",
   "metadata": {},
   "source": [
    "We can see here that the fit looks approximately the same as the full dataset. For completeness, we can also look at the second half of the data."
   ]
  },
  {
   "cell_type": "code",
   "execution_count": 16,
   "id": "5e9a548c-ad71-49ed-a2c0-bc1522bf8c08",
   "metadata": {},
   "outputs": [],
   "source": [
    "x_data3 = x_data[half_length:]\n",
    "y_data3 = y_data[half_length:]\n",
    "err_data3 = err_data[half_length:]"
   ]
  },
  {
   "cell_type": "code",
   "execution_count": 26,
   "id": "3f94302d-66f4-4f36-8d7c-1b6e879503c6",
   "metadata": {},
   "outputs": [],
   "source": [
    "fit_second_half = chi_square_fit_exp(x_data3, y_data3, err_data3)"
   ]
  },
  {
   "cell_type": "code",
   "execution_count": 27,
   "id": "438e0e82-3c6f-41d5-871f-261f4b5e7ae5",
   "metadata": {},
   "outputs": [
    {
     "name": "stdout",
     "output_type": "stream",
     "text": [
      "-76.29197449174762 0.04156299082564495 -90.40988408010071\n",
      "61050\n"
     ]
    }
   ],
   "source": [
    "print(fit_second_half[0], fit_second_half[1], fit_second_half[4])\n",
    "print(len(x_data3))"
   ]
  },
  {
   "cell_type": "code",
   "execution_count": 19,
   "id": "f5c209c2-a39a-426e-a029-bdde16901008",
   "metadata": {},
   "outputs": [
    {
     "name": "stdout",
     "output_type": "stream",
     "text": [
      " slope = 0.04156299082564495  +-  1.0921227651248664e-06\n",
      " intercept = -76.29197449174762 +- 0.0022035885289049613\n",
      " chi-square/d.o.f. =  -0.0014809638985732656\n"
     ]
    },
    {
     "data": {
      "image/png": "[encoded data removed]",
      "text/plain": [
       "<Figure size 432x288 with 1 Axes>"
      ]
     },
     "metadata": {
      "needs_background": "light"
     },
     "output_type": "display_data"
    }
   ],
   "source": [
    "plt.scatter(x_data3, np.log(y_data3))\n",
    "\n",
    "print(' slope =', fit_second_half[1], ' +- ', fit_second_half[3])\n",
    "print(' intercept =', fit_second_half[0], '+-', fit_second_half[2])\n",
    "if len(x_data3) - 2 > 0 :\n",
    "    print(' chi-square/d.o.f. = ', fit_second_half[4]/(len(x_data3)-2))\n",
    "else:\n",
    "    print(' chi-square/d.o.f. undefined')\n",
    "\n",
    "x_vals3 = np.linspace(2016, 2021)\n",
    "fitline3 = fit_second_half[0] + fit_second_half[1] * x_vals3\n",
    "plt.plot(x_vals3,fitline3, '-r')\n",
    "plt.xlabel(\"Time\")\n",
    "plt.ylabel(\"CH4 Level\")\n",
    "plt.show()"
   ]
  },
  {
   "cell_type": "markdown",
   "id": "95572d36-8c36-4f7a-b428-4f5c4a7d2263",
   "metadata": {},
   "source": [
    "We see here that either the distribution of the data is much higher than the other intervals considered, or the fitting function encountered a difficulty. Seeing as the chi squared value is negative, it is safe to assume that something has gone wrong with the fitting here. This likely has something to do with the transition to taking the natural log of the plot."
   ]
  },
  {
   "cell_type": "code",
   "execution_count": null,
   "id": "64a685c1-b9d4-478a-8f6b-2fe7cb486e38",
   "metadata": {},
   "outputs": [],
   "source": []
  }
 ],
 "metadata": {
  "kernelspec": {
   "display_name": "Python 3 (ipykernel)",
   "language": "python",
   "name": "python3"
  },
  "language_info": {
   "codemirror_mode": {
    "name": "ipython",
    "version": 3
   },
   "file_extension": ".py",
   "mimetype": "text/x-python",
   "name": "python",
   "nbconvert_exporter": "python",
   "pygments_lexer": "ipython3",
   "version": "3.9.5"
  }
 },
 "nbformat": 4,
 "nbformat_minor": 5
}
